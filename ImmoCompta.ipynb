{
 "cells": [
  {
   "cell_type": "markdown",
   "metadata": {},
   "source": [
    "# Données issues du fichier des immobilisations corporelles\n",
    "***\n",
    "\n",
    "Le recoupemement avec les liasses ne concerne que les sociétés\n",
    "relevant du régime réel normal (liasses 2033 exclues)<br>\n",
    "\n",
    "<font color='red'>Le fichier des immobilisations Excel sous format .xlsx doit comprendre au moins les champs suivants : <br>\n",
    "-> BRUT (titre de la colonne) : valeur brute HT de chaque immobilisation <br>\n",
    "-> PCG (titre de la colonne) : compte comptable affecté à chaque immobilisation</font>"
   ]
  },
  {
   "cell_type": "code",
   "execution_count": 1,
   "metadata": {},
   "outputs": [],
   "source": [
    "# Installation du package directement à partir de Jupyter\n",
    "%pip install xlsxwriter"
   ]
  },
  {
   "cell_type": "code",
   "execution_count": 2,
   "metadata": {},
   "outputs": [],
   "source": [
    "import openpyxl\n",
    "import pandas as pd\n",
    "import numpy as np\n",
    "import xlsxwriter"
   ]
  },
  {
   "cell_type": "markdown",
   "metadata": {},
   "source": [
    "### Récupération du fichier des immobilisations"
   ]
  },
  {
   "cell_type": "markdown",
   "metadata": {},
   "source": [
    "<font color='green'> Récupération du chemin fichier des immobilisations : <br>\n",
    "==> Copier / coller le chemin d'accès au fichier d'immobilisation concerné</font>"
   ]
  },
  {
   "cell_type": "code",
   "execution_count": 4,
   "metadata": {},
   "outputs": [],
   "source": [
    "my_directory = input(\"Chemin où se trouve le fichier des immobilisations : \")"
   ]
  },
  {
   "cell_type": "markdown",
   "metadata": {},
   "source": [
    "<font color='green'> Récupération du fichier des immobilisations : <br>\n",
    "==> Saisir uniquement le nom du fichier sans rajouter l'extension '.xlsx'</font>"
   ]
  },
  {
   "cell_type": "code",
   "execution_count": null,
   "metadata": {},
   "outputs": [],
   "source": [
    "my_file = input(\"Fichier des immobilisations sous format .xlsx : \")"
   ]
  },
  {
   "cell_type": "code",
   "execution_count": null,
   "metadata": {},
   "outputs": [],
   "source": [
    "# Conversion du fichier Excel en dataframe\n",
    "assets_df = pd.read_excel(f'{my_directory}\\{my_file}.xlsx')"
   ]
  },
  {
   "cell_type": "code",
   "execution_count": 5,
   "metadata": {},
   "outputs": [],
   "source": [
    "# Conversion du champ PCG en type 'str' \n",
    "assets_df['PCG'] = assets_df['PCG'].astype('str')"
   ]
  },
  {
   "cell_type": "markdown",
   "metadata": {},
   "source": [
    "### Recoupement avec les données comptables (balance)"
   ]
  },
  {
   "cell_type": "code",
   "execution_count": 6,
   "metadata": {},
   "outputs": [],
   "source": [
    "\"Regroupement par compte pour recouper avec la comptabilité\"\n",
    "\n",
    "# TCD : valeur brute par compte comptable\n",
    "balance_df = assets_df.groupby('PCG')['BRUT'].sum().reset_index()\n",
    "\n",
    "# Colonne renommée\n",
    "balance_df.rename(columns={\"BRUT\": \"BRUT_FICHIER_IMMOS\"}, inplace=True)\n",
    "\n",
    "# Insertion de nouvelles colonnes\n",
    "balance_df.insert(loc=balance_df.shape[1], column=\"BRUT_BALANCE\", value='')\n",
    "balance_df.insert(loc=balance_df.shape[1], column=\"ECART\", value='')\n",
    "balance_df.insert(loc=balance_df.shape[1], column=\"OBSERVATIONS\", value='')"
   ]
  },
  {
   "cell_type": "code",
   "execution_count": 7,
   "metadata": {},
   "outputs": [],
   "source": [
    "\"Information que le compte répertorié n'est pas un compte du PCG\"\n",
    "\n",
    "# Si le compte commence par 216, 217 ou 219 : compte non répertorié\n",
    "balance_df.loc[balance_df['PCG']\n",
    "           .astype('str').str.contains('^216|^217|^219'), \n",
    "           'OBSERVATIONS'] = \"Compte non répertorié par le PCG\"\n",
    "\n",
    "# Arrondis de la colonne BRUT_FICHIER_IMMOS\n",
    "balance_df['BRUT_FICHIER_IMMOS'] = balance_df[\n",
    "    'BRUT_FICHIER_IMMOS'].round(decimals=0)\n",
    "\n",
    "# Champs à afficher\n",
    "balance_df = balance_df[[\n",
    "    \"PCG\", \"BRUT_FICHIER_IMMOS\", \"BRUT_BALANCE\", \"ECART\", \"OBSERVATIONS\"]]"
   ]
  },
  {
   "cell_type": "code",
   "execution_count": 9,
   "metadata": {},
   "outputs": [],
   "source": [
    "# Insertion d'une nouvelle DF pour ajouter le montant total des immobilisations\n",
    "sum_df = pd.DataFrame({\n",
    "    'PCG': ['TOTAL'], \n",
    "    'BRUT_FICHIER_IMMOS':[balance_df['BRUT_FICHIER_IMMOS'].sum()],\n",
    "    'BRUT_BALANCE':[''], 'ECART':[''], 'OBSERVATIONS':['']})"
   ]
  },
  {
   "cell_type": "code",
   "execution_count": 10,
   "metadata": {},
   "outputs": [],
   "source": [
    "# Concaténation des 2 DF ci-avant\n",
    "balance_df = pd.concat([balance_df, sum_df], axis=0)"
   ]
  },
  {
   "cell_type": "markdown",
   "metadata": {},
   "source": [
    "### Recoupement avec les liasses fiscales (régime RN)"
   ]
  },
  {
   "cell_type": "code",
   "execution_count": 11,
   "metadata": {},
   "outputs": [],
   "source": [
    "\"Regroupement par poste de la liasse 2054\"\n",
    "\n",
    "# Terrains\n",
    "fields = int(round(balance_df.loc[\n",
    "    balance_df['PCG'].astype('str').str.contains('^211|^212')]\n",
    "            .agg({'BRUT_FICHIER_IMMOS':'sum'})[0], 0))\n",
    "\n",
    "# Constructions sur sol propre\n",
    "construct1 = int(round(balance_df.loc[\n",
    "    ((balance_df['PCG'].astype('str').str.contains('^213')) &\n",
    "     (~balance_df['PCG'].astype('str').str.contains('^2135')))]\n",
    "            .agg({'BRUT_FICHIER_IMMOS':'sum'})[0], 0))\n",
    "\n",
    "# Constructions sur sol d'autrui\n",
    "construct2 = int(round(balance_df.loc[\n",
    "    balance_df['PCG'].astype('str').str.contains('^214')]\n",
    "            .agg({'BRUT_FICHIER_IMMOS':'sum'})[0], 0))\n",
    "\n",
    "# Constructions Agencements\n",
    "construct3 = int(round(balance_df.loc[\n",
    "    balance_df['PCG'].astype('str').str.contains('^2135')]\n",
    "            .agg({'BRUT_FICHIER_IMMOS':'sum'})[0], 0))\n",
    "\n",
    "# ITMOI\n",
    "material = int(round(balance_df.loc[\n",
    "    balance_df['PCG'].astype('str').str.contains('^215')]\n",
    "            .agg({'BRUT_FICHIER_IMMOS':'sum'})[0], 0))\n",
    "\n",
    "# Autres immobilisations agencements\n",
    "others = int(round(balance_df.loc[\n",
    "    balance_df['PCG'].astype('str').str.contains('^2181|^2188')]\n",
    "            .agg({'BRUT_FICHIER_IMMOS':'sum'})[0], 0))\n",
    "\n",
    "# Matériel de transport\n",
    "transport = int(round(balance_df.loc[\n",
    "    balance_df['PCG'].astype('str').str.contains('^2182')]\n",
    "            .agg({'BRUT_FICHIER_IMMOS':'sum'})[0], 0))\n",
    "\n",
    "# Matériel de bureau, informatique, mobilier\n",
    "computer = int(round(balance_df.loc[\n",
    "    balance_df['PCG'].astype('str').str.contains(\n",
    "        '^2183|^2184')]\n",
    "            .agg({'BRUT_FICHIER_IMMOS':'sum'})[0], 0))\n",
    "\n",
    "# Emballages récupérables et divers\n",
    "packaging = int(round(balance_df.loc[\n",
    "    balance_df['PCG'].astype('str').str.contains(\n",
    "        '^2185|^2186')]\n",
    "            .agg({'BRUT_FICHIER_IMMOS':'sum'})[0], 0))\n"
   ]
  },
  {
   "cell_type": "code",
   "execution_count": 12,
   "metadata": {},
   "outputs": [],
   "source": [
    "# Nouvelle DF pour effectuer le recoupement avec la liasse 2054\n",
    "financial_df = pd.DataFrame({\n",
    "    \"POSTE\":[\n",
    "        \"Terrains\", \"Constructions sur sol propre\", \n",
    "        \"Constructions sur sol d'autrui\", \"Constructions Agencements\",\n",
    "        \"ITMOI\", \"Autres immobilisations Agencements\",\n",
    "        \"Matériel de transport\", \"Matériel Bureau, Informatique, Mobilier\",\n",
    "        \"Emballages récupérables et divers\"],\n",
    "    \"BRUT_FICHIER_IMMOS\":[\n",
    "        fields, construct1, construct2, construct3, material, \n",
    "        others, transport, computer, packaging],\n",
    "    \"BRUT_LIASSE_2054\":[\n",
    "        '', '', '', '', '', '', '', '', ''],\n",
    "    \"ECART\":['', '', '', '', '', '', '', '', ''],\n",
    "    \"OBSERVATIONS\":['', '', '', '', '', '', '', '', '']}) "
   ]
  },
  {
   "cell_type": "code",
   "execution_count": 13,
   "metadata": {},
   "outputs": [],
   "source": [
    "# Insertion d'une nouvelle DF pour ajouter le montant total des immobilisations\n",
    "sum2_df = pd.DataFrame({\n",
    "    'POSTE': ['TOTAL'], \n",
    "    'BRUT_FICHIER_IMMOS':[financial_df['BRUT_FICHIER_IMMOS'].sum()],\n",
    "    'BRUT_LIASSE_2054':[''], 'ECART':[''], 'OBSERVATIONS':['']})"
   ]
  },
  {
   "cell_type": "code",
   "execution_count": 14,
   "metadata": {},
   "outputs": [],
   "source": [
    "# Concaténation des 2 DF ci-avant\n",
    "financial_df = pd.concat([financial_df, sum2_df], axis=0)"
   ]
  },
  {
   "cell_type": "markdown",
   "metadata": {},
   "source": [
    "### Export des données ci-avant sous format Excel"
   ]
  },
  {
   "cell_type": "markdown",
   "metadata": {},
   "source": [
    "<font color='green'>Copier / coller le chemin d'export du fichier Excel</font>"
   ]
  },
  {
   "cell_type": "code",
   "execution_count": 15,
   "metadata": {},
   "outputs": [],
   "source": [
    "export_file = input(\"Chemin d'export du fichier Excel : \")"
   ]
  },
  {
   "cell_type": "code",
   "execution_count": 16,
   "metadata": {},
   "outputs": [],
   "source": [
    "# Exportation des données et création des onglets\n",
    "excelwriter = pd.ExcelWriter(\n",
    "    f'{export_file}\\Recoupement_Immos.xlsx', engine='xlsxwriter')\n",
    "balance_df.to_excel(\n",
    "            excelwriter, sheet_name='Recoupement_Compta', index=False)\n",
    "worksheet_balance = excelwriter.sheets['Recoupement_Compta']\n",
    "financial_df.to_excel(\n",
    "            excelwriter, sheet_name='Recoupement_Liasses', index=False)\n",
    "worksheet_financial = excelwriter.sheets['Recoupement_Liasses']\n",
    "workbook = excelwriter.book"
   ]
  },
  {
   "cell_type": "code",
   "execution_count": 17,
   "metadata": {},
   "outputs": [],
   "source": [
    "# Mise en forme des cellules et alignement des cellules\n",
    "text_format = workbook.add_format()\n",
    "num_format = workbook.add_format({'num_format': '#,##0 €'})\n",
    "\n",
    "# Alignement centré de toutes les cellules\n",
    "text_format.set_align('center')\n",
    "num_format.set_align('center')"
   ]
  },
  {
   "cell_type": "code",
   "execution_count": 18,
   "metadata": {},
   "outputs": [
    {
     "data": {
      "text/plain": [
       "0"
      ]
     },
     "execution_count": 18,
     "metadata": {},
     "output_type": "execute_result"
    }
   ],
   "source": [
    "# Bordure des cellules\n",
    "border_excel = workbook.add_format(\n",
    "    {'bottom':1, 'top':1, 'left':1, 'right':1})\n",
    "worksheet_balance.conditional_format(\n",
    "    xlsxwriter.utility.xl_range(\n",
    "        0, 0, len(balance_df), balance_df.shape[1]-1), \n",
    "    {'type': 'no_errors', 'format': border_excel})   \n",
    "worksheet_financial.conditional_format(\n",
    "    xlsxwriter.utility.xl_range(\n",
    "        0, 0, len(financial_df), financial_df.shape[1]-1), \n",
    "    {'type': 'no_errors', 'format': border_excel}) "
   ]
  },
  {
   "cell_type": "code",
   "execution_count": 19,
   "metadata": {},
   "outputs": [
    {
     "data": {
      "text/plain": [
       "0"
      ]
     },
     "execution_count": 19,
     "metadata": {},
     "output_type": "execute_result"
    }
   ],
   "source": [
    "# Largeur et format des cellules\n",
    "for column in balance_df:\n",
    "    column_length = max(balance_df[column]\n",
    "                        .astype(str).map(len).max(), len(column))\n",
    "    col_idx = (balance_df.columns.get_loc(column))\n",
    "    excelwriter.sheets['Recoupement_Compta'].set_column(\n",
    "        col_idx, col_idx, column_length, text_format)\n",
    "excelwriter.sheets['Recoupement_Compta'].set_column('A:A', 20, text_format)\n",
    "excelwriter.sheets['Recoupement_Compta'].set_column('B:B', 25, num_format)\n",
    "excelwriter.sheets['Recoupement_Compta'].set_column('C:D', 25, text_format)\n",
    "excelwriter.sheets['Recoupement_Compta'].set_column('E:E', 60, text_format)\n",
    "for column in financial_df:\n",
    "    column_length = max(financial_df[column]\n",
    "                        .astype(str).map(len).max(), len(column))\n",
    "    col_idx = (financial_df.columns.get_loc(column))\n",
    "    excelwriter.sheets['Recoupement_Liasses'].set_column(\n",
    "        col_idx, col_idx, column_length, text_format)\n",
    "excelwriter.sheets['Recoupement_Liasses'].set_column('A:A', 50, text_format)\n",
    "excelwriter.sheets['Recoupement_Liasses'].set_column('B:B', 25, num_format)\n",
    "excelwriter.sheets['Recoupement_Liasses'].set_column('C:D', 25, text_format)\n",
    "excelwriter.sheets['Recoupement_Liasses'].set_column('E:E', 60, text_format)"
   ]
  },
  {
   "cell_type": "code",
   "execution_count": 20,
   "metadata": {},
   "outputs": [],
   "source": [
    "# Autofiltre\n",
    "(max_row, max_col) = balance_df.shape\n",
    "worksheet_balance.autofilter(0, 0, max_row, max_col - 1)\n",
    "(max_row, max_col) = financial_df.shape\n",
    "worksheet_financial.autofilter(0, 0, max_row, max_col - 1)"
   ]
  },
  {
   "cell_type": "code",
   "execution_count": 21,
   "metadata": {},
   "outputs": [],
   "source": [
    "# Sauvegarde\n",
    "excelwriter.save()"
   ]
  }
 ],
 "metadata": {
  "kernelspec": {
   "display_name": "Python 3.9.2 ('.venv': venv)",
   "language": "python",
   "name": "python3"
  },
  "language_info": {
   "codemirror_mode": {
    "name": "ipython",
    "version": 3
   },
   "file_extension": ".py",
   "mimetype": "text/x-python",
   "name": "python",
   "nbconvert_exporter": "python",
   "pygments_lexer": "ipython3",
   "version": "3.9.2 (tags/v3.9.2:1a79785, Feb 19 2021, 13:44:55) [MSC v.1928 64 bit (AMD64)]"
  },
  "orig_nbformat": 4,
  "vscode": {
   "interpreter": {
    "hash": "ba0cb8a4a5076ba773e022c5d5dea02421e3ea63438022d0327ef6f9e024b23d"
   }
  }
 },
 "nbformat": 4,
 "nbformat_minor": 2
}
